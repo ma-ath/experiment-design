{
 "cells": [
  {
   "attachments": {},
   "cell_type": "markdown",
   "metadata": {},
   "source": [
    "# Experiment 1"
   ]
  },
  {
   "cell_type": "code",
   "execution_count": 2,
   "metadata": {},
   "outputs": [],
   "source": [
    "import pandas as pd\n",
    "\n",
    "datapaths = {   \"2015\": \"./datasets/extracted/DADOS/MICRODADOS_ENEM_2015.csv\",\n",
    "                \"2016\": \"./datasets/extracted/DADOS/microdados_enem_2016.csv\",\n",
    "                \"2017\": \"./datasets/extracted/DADOS/MICRODADOS_ENEM_2017.csv\",\n",
    "                \"2018\": \"./datasets/extracted/DADOS/MICRODADOS_ENEM_2018.csv\",\n",
    "                \"2019\": \"./datasets/extracted/DADOS/MICRODADOS_ENEM_2019.csv\",\n",
    "                \"2020\": \"./datasets/extracted/DADOS/MICRODADOS_ENEM_2020.csv\",\n",
    "                \"2021\": \"./datasets/extracted/DADOS/MICRODADOS_ENEM_2021.csv\"}"
   ]
  },
  {
   "cell_type": "code",
   "execution_count": 3,
   "metadata": {},
   "outputs": [],
   "source": [
    "# Load the data\n",
    "microdados_2021 = pd.read_csv(datapaths[\"2021\"], encoding=\"ISO-8859-1\", delimiter=\";\")"
   ]
  },
  {
   "attachments": {},
   "cell_type": "markdown",
   "metadata": {},
   "source": [
    "### Getting the columns of interest"
   ]
  },
  {
   "cell_type": "code",
   "execution_count": 4,
   "metadata": {},
   "outputs": [],
   "source": [
    "# Columns we are interested in\n",
    "columns_of_interest = [\n",
    "    \"TP_PRESENCA_CN\", # \"Presença na prova objetiva de Ciências da Natureza\"\n",
    "    \"TP_PRESENCA_CH\", # \"Presença na prova objetiva de Ciências Humanas\"\n",
    "    \"TP_PRESENCA_LC\", # \"Presença na prova objetiva de Linguagens e Códigos\"\n",
    "    \"TP_PRESENCA_MT\", # \"Presença na prova objetiva de Matemática\"\n",
    "    \"CO_PROVA_CN\", # \"Código do tipo de prova de Ciências da Natureza\"\n",
    "    \"CO_PROVA_CH\", # \"Código do tipo de prova de Ciências Humanas\"\n",
    "    \"CO_PROVA_LC\", # \"Código do tipo de prova de Linguagens e Códigos\"\n",
    "    \"CO_PROVA_MT\", # \"Código do tipo de prova de Matemática\"\n",
    "    \"NU_NOTA_CN\", # \"Nota da prova de Ciências da Natureza\"\n",
    "    \"NU_NOTA_CH\", # \"Nota da prova de Ciências Humanas\"\n",
    "    \"NU_NOTA_LC\", # \"Nota da prova de Linguagens e Códigos\"\n",
    "    \"NU_NOTA_MT\", # \"Nota da prova de Matemática\"\n",
    "    \"TP_STATUS_REDACAO\", # \"Situação da redação do participante\"\n",
    "    \"NU_NOTA_REDACAO\" # \"Nota da prova de redação\"\n",
    "]\n",
    "\n",
    "data = microdados_2021[columns_of_interest]"
   ]
  },
  {
   "attachments": {},
   "cell_type": "markdown",
   "metadata": {},
   "source": [
    "### Only considering people who made all the exams and had no problems on the writting section"
   ]
  },
  {
   "cell_type": "code",
   "execution_count": 5,
   "metadata": {},
   "outputs": [],
   "source": [
    "data = data.drop(data[data.TP_PRESENCA_CN != 1].index)\n",
    "data = data.drop(data[data.TP_PRESENCA_CH != 1].index)\n",
    "data = data.drop(data[data.TP_PRESENCA_LC != 1].index)\n",
    "data = data.drop(data[data.TP_PRESENCA_MT != 1].index)\n",
    "data = data.drop(data[data.TP_STATUS_REDACAO != 1].index)"
   ]
  },
  {
   "cell_type": "code",
   "execution_count": 6,
   "metadata": {},
   "outputs": [
    {
     "name": "stdout",
     "output_type": "stream",
     "text": [
      "         TP_PRESENCA_CN  TP_PRESENCA_CH  TP_PRESENCA_LC  TP_PRESENCA_MT   \n",
      "1                     1               1               1               1  \\\n",
      "3                     1               1               1               1   \n",
      "4                     1               1               1               1   \n",
      "8                     1               1               1               1   \n",
      "9                     1               1               1               1   \n",
      "...                 ...             ...             ...             ...   \n",
      "3389793               1               1               1               1   \n",
      "3389807               1               1               1               1   \n",
      "3389814               1               1               1               1   \n",
      "3389815               1               1               1               1   \n",
      "3389830               1               1               1               1   \n",
      "\n",
      "         CO_PROVA_CN  CO_PROVA_CH  CO_PROVA_LC  CO_PROVA_MT  NU_NOTA_CN   \n",
      "1              912.0        882.0        891.0        901.0       505.9  \\\n",
      "3              911.0        880.0        890.0        902.0       580.7   \n",
      "4              912.0        882.0        891.0        901.0       497.7   \n",
      "8              910.0        879.0        889.0        900.0       487.4   \n",
      "9              909.0        881.0        892.0        899.0       507.6   \n",
      "...              ...          ...          ...          ...         ...   \n",
      "3389793       1048.0       1018.0       1027.0       1037.0       506.0   \n",
      "3389807       1048.0       1018.0       1027.0       1037.0       435.6   \n",
      "3389814       1045.0       1017.0       1028.0       1035.0       576.9   \n",
      "3389815       1045.0       1017.0       1028.0       1035.0       449.9   \n",
      "3389830       1048.0       1018.0       1027.0       1037.0       563.7   \n",
      "\n",
      "         NU_NOTA_CH  NU_NOTA_LC  NU_NOTA_MT  TP_STATUS_REDACAO   \n",
      "1             551.8       498.3       461.5                1.0  \\\n",
      "3             678.9       638.9       659.5                1.0   \n",
      "4             532.4       457.6       582.6                1.0   \n",
      "8             476.5       450.7       493.4                1.0   \n",
      "9             539.2       494.6       413.3                1.0   \n",
      "...             ...         ...         ...                ...   \n",
      "3389793       405.2       416.3       450.4                1.0   \n",
      "3389807       531.2       534.7       399.2                1.0   \n",
      "3389814       605.6       631.0       678.0                1.0   \n",
      "3389815       368.2       466.3       370.0                1.0   \n",
      "3389830       646.0       550.7       706.4                1.0   \n",
      "\n",
      "         NU_NOTA_REDACAO  \n",
      "1                  560.0  \n",
      "3                  780.0  \n",
      "4                  780.0  \n",
      "8                  520.0  \n",
      "9                  380.0  \n",
      "...                  ...  \n",
      "3389793            240.0  \n",
      "3389807            320.0  \n",
      "3389814            640.0  \n",
      "3389815            540.0  \n",
      "3389830            660.0  \n",
      "\n",
      "[2175444 rows x 14 columns]\n"
     ]
    }
   ],
   "source": [
    "print(data)"
   ]
  },
  {
   "attachments": {},
   "cell_type": "markdown",
   "metadata": {},
   "source": [
    "### Pega a nota das provas de acordo com a cor da prova feita"
   ]
  },
  {
   "cell_type": "code",
   "execution_count": 10,
   "metadata": {},
   "outputs": [],
   "source": [
    "prova_cn_azul = data.drop(data[data.CO_PROVA_CN != 909].index).NU_NOTA_CN\n",
    "prova_cn_amarela = data.drop(data[data.CO_PROVA_CN != 910].index).NU_NOTA_CN\n",
    "prova_cn_cinza = data.drop(data[data.CO_PROVA_CN != 911].index).NU_NOTA_CN\n",
    "prova_cn_rosa = data.drop(data[data.CO_PROVA_CN != 912].index).NU_NOTA_CN\n",
    "\n",
    "prova_ch_azul = data.drop(data[data.CO_PROVA_CH != 879].index).NU_NOTA_CH\n",
    "prova_ch_amarela = data.drop(data[data.CO_PROVA_CH != 880].index).NU_NOTA_CH\n",
    "prova_ch_branca = data.drop(data[data.CO_PROVA_CH != 881].index).NU_NOTA_CH\n",
    "prova_ch_rosa = data.drop(data[data.CO_PROVA_CH != 882].index).NU_NOTA_CH\n",
    "\n",
    "prova_lc_azul = data.drop(data[data.CO_PROVA_LC != 889].index).NU_NOTA_LC\n",
    "prova_lc_amarela = data.drop(data[data.CO_PROVA_LC != 890].index).NU_NOTA_LC\n",
    "prova_lc_rosa = data.drop(data[data.CO_PROVA_LC != 891].index).NU_NOTA_LC\n",
    "prova_lc_branca = data.drop(data[data.CO_PROVA_LC != 892].index).NU_NOTA_LC\n",
    "\n",
    "prova_mt_azul = data.drop(data[data.CO_PROVA_MT != 899].index).NU_NOTA_MT\n",
    "prova_mt_amarela = data.drop(data[data.CO_PROVA_MT != 900].index).NU_NOTA_MT\n",
    "prova_mt_rosa = data.drop(data[data.CO_PROVA_MT != 901].index).NU_NOTA_MT\n",
    "prova_mt_cinza = data.drop(data[data.CO_PROVA_MT != 902].index).NU_NOTA_MT\n",
    "\n",
    "assert(len(prova_cn_azul) != 0)\n",
    "assert(len(prova_cn_amarela) != 0)\n",
    "assert(len(prova_cn_cinza) != 0)\n",
    "assert(len(prova_cn_rosa) != 0)\n",
    "assert(len(prova_ch_azul) != 0)\n",
    "assert(len(prova_ch_amarela) != 0)\n",
    "assert(len(prova_ch_branca) != 0)\n",
    "assert(len(prova_ch_rosa) != 0)\n",
    "assert(len(prova_lc_azul) != 0)\n",
    "assert(len(prova_lc_amarela) != 0)\n",
    "assert(len(prova_lc_rosa) != 0)\n",
    "assert(len(prova_lc_branca) != 0)\n",
    "assert(len(prova_mt_azul) != 0)\n",
    "assert(len(prova_mt_amarela) != 0)\n",
    "assert(len(prova_mt_rosa) != 0)\n",
    "assert(len(prova_mt_cinza) != 0)"
   ]
  },
  {
   "cell_type": "code",
   "execution_count": 9,
   "metadata": {},
   "outputs": [
    {
     "name": "stdout",
     "output_type": "stream",
     "text": [
      "517658\n"
     ]
    }
   ],
   "source": []
  },
  {
   "cell_type": "code",
   "execution_count": null,
   "metadata": {},
   "outputs": [],
   "source": []
  }
 ],
 "metadata": {
  "kernelspec": {
   "display_name": ".env",
   "language": "python",
   "name": "python3"
  },
  "language_info": {
   "codemirror_mode": {
    "name": "ipython",
    "version": 3
   },
   "file_extension": ".py",
   "mimetype": "text/x-python",
   "name": "python",
   "nbconvert_exporter": "python",
   "pygments_lexer": "ipython3",
   "version": "3.8.10"
  },
  "orig_nbformat": 4
 },
 "nbformat": 4,
 "nbformat_minor": 2
}
