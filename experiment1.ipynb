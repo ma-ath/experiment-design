{
 "cells": [
  {
   "attachments": {},
   "cell_type": "markdown",
   "metadata": {},
   "source": [
    "# Experiment 1"
   ]
  },
  {
   "cell_type": "code",
   "execution_count": 10,
   "metadata": {},
   "outputs": [],
   "source": [
    "import pandas as pd\n",
    "\n",
    "datapaths = {   \"2015\": \"./datasets/extracted/DADOS/MICRODADOS_ENEM_2015.csv\",\n",
    "                \"2016\": \"./datasets/extracted/DADOS/microdados_enem_2016.csv\",\n",
    "                \"2017\": \"./datasets/extracted/DADOS/MICRODADOS_ENEM_2017.csv\",\n",
    "                \"2018\": \"./datasets/extracted/DADOS/MICRODADOS_ENEM_2018.csv\",\n",
    "                \"2019\": \"./datasets/extracted/DADOS/MICRODADOS_ENEM_2019.csv\",\n",
    "                \"2020\": \"./datasets/extracted/DADOS/MICRODADOS_ENEM_2020.csv\",\n",
    "                \"2021\": \"./datasets/extracted/DADOS/MICRODADOS_ENEM_2021.csv\"}"
   ]
  },
  {
   "cell_type": "code",
   "execution_count": 13,
   "metadata": {},
   "outputs": [],
   "source": [
    "# Load the data\n",
    "microdados_2021 = pd.read_csv(datapaths[\"2021\"], encoding=\"ISO-8859-1\", delimiter=\";\")"
   ]
  },
  {
   "cell_type": "code",
   "execution_count": 25,
   "metadata": {},
   "outputs": [],
   "source": [
    "# Columns we are interested in\n",
    "columns_of_interest = [\n",
    "    \"TP_PRESENCA_CN\", # \"Presença na prova objetiva de Ciências da Natureza\"\n",
    "    \"TP_PRESENCA_CH\", # \"Presença na prova objetiva de Ciências Humanas\"\n",
    "    \"TP_PRESENCA_LC\", # \"Presença na prova objetiva de Linguagens e Códigos\"\n",
    "    \"TP_PRESENCA_MT\", # \"Presença na prova objetiva de Matemática\"\n",
    "    \"CO_PROVA_CN\", # \"Código do tipo de prova de Ciências da Natureza\"\n",
    "    \"CO_PROVA_CH\", # \"Código do tipo de prova de Ciências Humanas\"\n",
    "    \"CO_PROVA_LC\", # \"Código do tipo de prova de Linguagens e Códigos\"\n",
    "    \"CO_PROVA_MT\", # \"Código do tipo de prova de Matemática\"\n",
    "    \"NU_NOTA_CN\", # \"Nota da prova de Ciências da Natureza\"\n",
    "    \"NU_NOTA_CH\", # \"Nota da prova de Ciências Humanas\"\n",
    "    \"NU_NOTA_LC\", # \"Nota da prova de Linguagens e Códigos\"\n",
    "    \"NU_NOTA_MT\", # \"Nota da prova de Matemática\"\n",
    "    \"NU_NOTA_REDACAO\" # \"Nota da prova de redação\"\n",
    "]"
   ]
  },
  {
   "cell_type": "code",
   "execution_count": 27,
   "metadata": {},
   "outputs": [],
   "source": [
    "df2 = microdados_2021[columns_of_interest]"
   ]
  },
  {
   "cell_type": "code",
   "execution_count": 28,
   "metadata": {},
   "outputs": [
    {
     "name": "stdout",
     "output_type": "stream",
     "text": [
      "   TP_PRESENCA_CN  TP_PRESENCA_CH  TP_PRESENCA_LC  TP_PRESENCA_MT   \n",
      "0               0               1               1               0  \\\n",
      "1               1               1               1               1   \n",
      "2               0               0               0               0   \n",
      "3               1               1               1               1   \n",
      "4               1               1               1               1   \n",
      "\n",
      "   CO_PROVA_CN  CO_PROVA_CH  CO_PROVA_LC  CO_PROVA_MT  NU_NOTA_CN  NU_NOTA_CH   \n",
      "0          NaN        881.0        892.0          NaN         NaN       574.6  \\\n",
      "1        912.0        882.0        891.0        901.0       505.9       551.8   \n",
      "2          NaN          NaN          NaN          NaN         NaN         NaN   \n",
      "3        911.0        880.0        890.0        902.0       580.7       678.9   \n",
      "4        912.0        882.0        891.0        901.0       497.7       532.4   \n",
      "\n",
      "   NU_NOTA_LC  NU_NOTA_MT  NU_NOTA_REDACAO  \n",
      "0       472.6         NaN            760.0  \n",
      "1       498.3       461.5            560.0  \n",
      "2         NaN         NaN              NaN  \n",
      "3       638.9       659.5            780.0  \n",
      "4       457.6       582.6            780.0  \n"
     ]
    }
   ],
   "source": [
    "print(df2.head())"
   ]
  },
  {
   "cell_type": "code",
   "execution_count": null,
   "metadata": {},
   "outputs": [],
   "source": []
  }
 ],
 "metadata": {
  "kernelspec": {
   "display_name": ".env",
   "language": "python",
   "name": "python3"
  },
  "language_info": {
   "codemirror_mode": {
    "name": "ipython",
    "version": 3
   },
   "file_extension": ".py",
   "mimetype": "text/x-python",
   "name": "python",
   "nbconvert_exporter": "python",
   "pygments_lexer": "ipython3",
   "version": "3.8.10"
  },
  "orig_nbformat": 4
 },
 "nbformat": 4,
 "nbformat_minor": 2
}
