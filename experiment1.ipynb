{
 "cells": [
  {
   "attachments": {},
   "cell_type": "markdown",
   "metadata": {},
   "source": [
    "# Experiment 1"
   ]
  },
  {
   "cell_type": "code",
   "execution_count": 1,
   "metadata": {},
   "outputs": [],
   "source": [
    "import pandas as pd\n",
    "\n",
    "datapaths = {   \"2015\": \"./datasets/extracted/DADOS/MICRODADOS_ENEM_2015.csv\",\n",
    "                \"2016\": \"./datasets/extracted/DADOS/microdados_enem_2016.csv\",\n",
    "                \"2017\": \"./datasets/extracted/DADOS/MICRODADOS_ENEM_2017.csv\",\n",
    "                \"2018\": \"./datasets/extracted/DADOS/MICRODADOS_ENEM_2018.csv\",\n",
    "                \"2019\": \"./datasets/extracted/DADOS/MICRODADOS_ENEM_2019.csv\",\n",
    "                \"2020\": \"./datasets/extracted/DADOS/MICRODADOS_ENEM_2020.csv\",\n",
    "                \"2021\": \"./datasets/extracted/DADOS/MICRODADOS_ENEM_2021.csv\"}"
   ]
  },
  {
   "cell_type": "code",
   "execution_count": 2,
   "metadata": {},
   "outputs": [],
   "source": [
    "# Load the data\n",
    "microdados_2021 = pd.read_csv(datapaths[\"2021\"], encoding=\"ISO-8859-1\", delimiter=\";\")"
   ]
  },
  {
   "attachments": {},
   "cell_type": "markdown",
   "metadata": {},
   "source": [
    "### Getting the columns of interest"
   ]
  },
  {
   "cell_type": "code",
   "execution_count": 53,
   "metadata": {},
   "outputs": [],
   "source": [
    "# Columns we are interested in\n",
    "columns_of_interest = [\n",
    "    \"NU_INSCRICAO\", # Numero de Inscricao\n",
    "    \"TP_PRESENCA_CN\", # \"Presença na prova objetiva de Ciências da Natureza\"\n",
    "    \"TP_PRESENCA_CH\", # \"Presença na prova objetiva de Ciências Humanas\"\n",
    "    \"TP_PRESENCA_LC\", # \"Presença na prova objetiva de Linguagens e Códigos\"\n",
    "    \"TP_PRESENCA_MT\", # \"Presença na prova objetiva de Matemática\"\n",
    "    \"CO_PROVA_CN\", # \"Código do tipo de prova de Ciências da Natureza\"\n",
    "    \"CO_PROVA_CH\", # \"Código do tipo de prova de Ciências Humanas\"\n",
    "    \"CO_PROVA_LC\", # \"Código do tipo de prova de Linguagens e Códigos\"\n",
    "    \"CO_PROVA_MT\", # \"Código do tipo de prova de Matemática\"\n",
    "    \"NU_NOTA_CN\", # \"Nota da prova de Ciências da Natureza\"\n",
    "    \"NU_NOTA_CH\", # \"Nota da prova de Ciências Humanas\"\n",
    "    \"NU_NOTA_LC\", # \"Nota da prova de Linguagens e Códigos\"\n",
    "    \"NU_NOTA_MT\", # \"Nota da prova de Matemática\"\n",
    "    \"TP_STATUS_REDACAO\", # \"Situação da redação do participante\"\n",
    "    \"NU_NOTA_REDACAO\" # \"Nota da prova de redação\"\n",
    "]\n",
    "\n",
    "data = microdados_2021[columns_of_interest]"
   ]
  },
  {
   "attachments": {},
   "cell_type": "markdown",
   "metadata": {},
   "source": [
    "### Only considering people who made all the exams and had no problems on the writting section"
   ]
  },
  {
   "cell_type": "code",
   "execution_count": 54,
   "metadata": {},
   "outputs": [
    {
     "data": {
      "text/plain": [
       "3389832"
      ]
     },
     "execution_count": 54,
     "metadata": {},
     "output_type": "execute_result"
    }
   ],
   "source": [
    "data.NU_INSCRICAO.__len__()"
   ]
  },
  {
   "cell_type": "code",
   "execution_count": 59,
   "metadata": {},
   "outputs": [],
   "source": [
    "data = data.drop(data[data.TP_PRESENCA_CN != 1].index)\n",
    "data = data.drop(data[data.TP_PRESENCA_CH != 1].index)\n",
    "data = data.drop(data[data.TP_PRESENCA_LC != 1].index)\n",
    "data = data.drop(data[data.TP_PRESENCA_MT != 1].index)\n",
    "data = data.drop(data[data.TP_STATUS_REDACAO != 1].index)"
   ]
  },
  {
   "cell_type": "code",
   "execution_count": 60,
   "metadata": {},
   "outputs": [
    {
     "name": "stdout",
     "output_type": "stream",
     "text": [
      "         NU_INSCRICAO  TP_PRESENCA_CN  TP_PRESENCA_CH  TP_PRESENCA_LC   \n",
      "1        210052384164               1               1               1  \\\n",
      "3        210052128335               1               1               1   \n",
      "4        210051353021               1               1               1   \n",
      "8        210053417016               1               1               1   \n",
      "9        210051128744               1               1               1   \n",
      "...               ...             ...             ...             ...   \n",
      "3389793  210054306230               1               1               1   \n",
      "3389807  210051254419               1               1               1   \n",
      "3389814  210051121001               1               1               1   \n",
      "3389815  210051173067               1               1               1   \n",
      "3389830  210051139675               1               1               1   \n",
      "\n",
      "         TP_PRESENCA_MT  CO_PROVA_CN  CO_PROVA_CH  CO_PROVA_LC  CO_PROVA_MT   \n",
      "1                     1        912.0        882.0        891.0        901.0  \\\n",
      "3                     1        911.0        880.0        890.0        902.0   \n",
      "4                     1        912.0        882.0        891.0        901.0   \n",
      "8                     1        910.0        879.0        889.0        900.0   \n",
      "9                     1        909.0        881.0        892.0        899.0   \n",
      "...                 ...          ...          ...          ...          ...   \n",
      "3389793               1       1048.0       1018.0       1027.0       1037.0   \n",
      "3389807               1       1048.0       1018.0       1027.0       1037.0   \n",
      "3389814               1       1045.0       1017.0       1028.0       1035.0   \n",
      "3389815               1       1045.0       1017.0       1028.0       1035.0   \n",
      "3389830               1       1048.0       1018.0       1027.0       1037.0   \n",
      "\n",
      "         NU_NOTA_CN  NU_NOTA_CH  NU_NOTA_LC  NU_NOTA_MT  TP_STATUS_REDACAO   \n",
      "1             505.9       551.8       498.3       461.5                1.0  \\\n",
      "3             580.7       678.9       638.9       659.5                1.0   \n",
      "4             497.7       532.4       457.6       582.6                1.0   \n",
      "8             487.4       476.5       450.7       493.4                1.0   \n",
      "9             507.6       539.2       494.6       413.3                1.0   \n",
      "...             ...         ...         ...         ...                ...   \n",
      "3389793       506.0       405.2       416.3       450.4                1.0   \n",
      "3389807       435.6       531.2       534.7       399.2                1.0   \n",
      "3389814       576.9       605.6       631.0       678.0                1.0   \n",
      "3389815       449.9       368.2       466.3       370.0                1.0   \n",
      "3389830       563.7       646.0       550.7       706.4                1.0   \n",
      "\n",
      "         NU_NOTA_REDACAO  \n",
      "1                  560.0  \n",
      "3                  780.0  \n",
      "4                  780.0  \n",
      "8                  520.0  \n",
      "9                  380.0  \n",
      "...                  ...  \n",
      "3389793            240.0  \n",
      "3389807            320.0  \n",
      "3389814            640.0  \n",
      "3389815            540.0  \n",
      "3389830            660.0  \n",
      "\n",
      "[2175444 rows x 15 columns]\n"
     ]
    }
   ],
   "source": [
    "print(data)"
   ]
  },
  {
   "attachments": {},
   "cell_type": "markdown",
   "metadata": {},
   "source": [
    "### Pega a nota das provas de acordo com a cor da prova feita"
   ]
  },
  {
   "cell_type": "code",
   "execution_count": 71,
   "metadata": {},
   "outputs": [],
   "source": [
    "prova_cn_azul = data.drop(data[data.CO_PROVA_CN != 909].index).NU_NOTA_CN\n",
    "prova_cn_amarela = data.drop(data[data.CO_PROVA_CN != 910].index).NU_NOTA_CN\n",
    "prova_cn_cinza = data.drop(data[data.CO_PROVA_CN != 911].index).NU_NOTA_CN\n",
    "prova_cn_rosa = data.drop(data[data.CO_PROVA_CN != 912].index).NU_NOTA_CN\n",
    "\n",
    "prova_ch_azul = data.drop(data[data.CO_PROVA_CH != 879].index).NU_NOTA_CH\n",
    "prova_ch_amarela = data.drop(data[data.CO_PROVA_CH != 880].index).NU_NOTA_CH\n",
    "prova_ch_branca = data.drop(data[data.CO_PROVA_CH != 881].index).NU_NOTA_CH\n",
    "prova_ch_rosa = data.drop(data[data.CO_PROVA_CH != 882].index).NU_NOTA_CH\n",
    "\n",
    "prova_lc_azul = data.drop(data[data.CO_PROVA_LC != 889].index).NU_NOTA_LC\n",
    "prova_lc_amarela = data.drop(data[data.CO_PROVA_LC != 890].index).NU_NOTA_LC\n",
    "prova_lc_rosa = data.drop(data[data.CO_PROVA_LC != 891].index).NU_NOTA_LC\n",
    "prova_lc_branca = data.drop(data[data.CO_PROVA_LC != 892].index).NU_NOTA_LC\n",
    "\n",
    "prova_mt_azul = data.drop(data[data.CO_PROVA_MT != 899].index).NU_NOTA_MT\n",
    "prova_mt_amarela = data.drop(data[data.CO_PROVA_MT != 900].index).NU_NOTA_MT\n",
    "prova_mt_rosa = data.drop(data[data.CO_PROVA_MT != 901].index).NU_NOTA_MT\n",
    "prova_mt_cinza = data.drop(data[data.CO_PROVA_MT != 902].index).NU_NOTA_MT\n",
    "\n",
    "assert(len(prova_cn_azul) != 0)\n",
    "assert(len(prova_cn_amarela) != 0)\n",
    "assert(len(prova_cn_cinza) != 0)\n",
    "assert(len(prova_cn_rosa) != 0)\n",
    "assert(len(prova_ch_azul) != 0)\n",
    "assert(len(prova_ch_amarela) != 0)\n",
    "assert(len(prova_ch_branca) != 0)\n",
    "assert(len(prova_ch_rosa) != 0)\n",
    "assert(len(prova_lc_azul) != 0)\n",
    "assert(len(prova_lc_amarela) != 0)\n",
    "assert(len(prova_lc_rosa) != 0)\n",
    "assert(len(prova_lc_branca) != 0)\n",
    "assert(len(prova_mt_azul) != 0)\n",
    "assert(len(prova_mt_amarela) != 0)\n",
    "assert(len(prova_mt_rosa) != 0)\n",
    "assert(len(prova_mt_cinza) != 0)\n",
    "\n",
    "prova_cn = pd.concat(\n",
    "    [prova_cn_azul.rename(\"Azul\").reset_index(drop=True),\n",
    "     prova_cn_amarela.rename(\"Amarela\").reset_index(drop=True),\n",
    "     prova_cn_cinza.rename(\"Cinza\").reset_index(drop=True),\n",
    "     prova_cn_rosa.rename(\"Rosa\").reset_index(drop=True)], axis = 1)\n",
    "\n",
    "assert(len(prova_cn[\"Azul\"].dropna()) == len(prova_cn_azul))\n",
    "assert(len(prova_cn[\"Amarela\"].dropna()) == len(prova_cn_amarela))\n",
    "assert(len(prova_cn[\"Cinza\"].dropna()) == len(prova_cn_cinza))\n",
    "assert(len(prova_cn[\"Rosa\"].dropna()) == len(prova_cn_rosa))\n",
    "\n",
    "prova_ch = pd.concat(\n",
    "    [prova_ch_azul.rename(\"Azul\").reset_index(drop=True),\n",
    "     prova_ch_amarela.rename(\"Amarela\").reset_index(drop=True),\n",
    "     prova_ch_branca.rename(\"Branca\").reset_index(drop=True),\n",
    "     prova_ch_rosa.rename(\"Rosa\").reset_index(drop=True)], axis = 1)\n",
    "\n",
    "assert(len(prova_ch[\"Azul\"].dropna()) == len(prova_ch_azul))\n",
    "assert(len(prova_ch[\"Amarela\"].dropna()) == len(prova_ch_amarela))\n",
    "assert(len(prova_ch[\"Branca\"].dropna()) == len(prova_ch_branca))\n",
    "assert(len(prova_ch[\"Rosa\"].dropna()) == len(prova_ch_rosa))\n",
    "\n",
    "prova_lc = pd.concat(\n",
    "    [prova_lc_azul.rename(\"Azul\").reset_index(drop=True),\n",
    "     prova_lc_amarela.rename(\"Amarela\").reset_index(drop=True),\n",
    "     prova_lc_rosa.rename(\"Rosa\").reset_index(drop=True),\n",
    "     prova_lc_branca.rename(\"Branca\").reset_index(drop=True)], axis = 1)\n",
    "\n",
    "assert(len(prova_lc[\"Azul\"].dropna()) == len(prova_lc_azul))\n",
    "assert(len(prova_lc[\"Amarela\"].dropna()) == len(prova_lc_amarela))\n",
    "assert(len(prova_lc[\"Rosa\"].dropna()) == len(prova_lc_rosa))\n",
    "assert(len(prova_lc[\"Branca\"].dropna()) == len(prova_lc_branca))\n",
    "data = data.drop(data[data.TP_PRESENCA_CN != data.TP_PRESENCA_CH].index)\n",
    "prova_mt = pd.concat(\n",
    "    [prova_mt_azul.rename(\"Azul\").reset_index(drop=True),\n",
    "     prova_mt_amarela.rename(\"Amarela\").reset_index(drop=True),\n",
    "     prova_mt_rosa.rename(\"Rosa\").reset_index(drop=True),\n",
    "     prova_mt_cinza.rename(\"Cinza\").reset_index(drop=True)], axis = 1)\n",
    "\n",
    "assert(len(prova_mt[\"Azul\"].dropna()) == len(prova_mt_azul))\n",
    "assert(len(prova_mt[\"Amarela\"].dropna()) == len(prova_mt_amarela))\n",
    "assert(len(prova_mt[\"Rosa\"].dropna()) == len(prova_mt_rosa))\n",
    "assert(len(prova_mt[\"Cinza\"].dropna()) == len(prova_mt_cinza))"
   ]
  },
  {
   "cell_type": "code",
   "execution_count": 62,
   "metadata": {},
   "outputs": [
    {
     "name": "stdout",
     "output_type": "stream",
     "text": [
      "2077849\n",
      "2077516\n",
      "2077516\n",
      "2077849\n"
     ]
    }
   ],
   "source": [
    "print(len(prova_cn_amarela)+len(prova_cn_azul)+len(prova_cn_cinza)+len(prova_cn_rosa))\n",
    "print(len(prova_ch_amarela)+len(prova_ch_azul)+len(prova_ch_branca)+len(prova_ch_rosa))\n",
    "print(len(prova_lc_amarela)+len(prova_lc_azul)+len(prova_lc_branca)+len(prova_lc_rosa))\n",
    "print(len(prova_mt_amarela)+len(prova_mt_azul)+len(prova_mt_cinza)+len(prova_mt_rosa))"
   ]
  },
  {
   "attachments": {},
   "cell_type": "markdown",
   "metadata": {},
   "source": [
    "### Plot all data"
   ]
  },
  {
   "cell_type": "code",
   "execution_count": 9,
   "metadata": {},
   "outputs": [
    {
     "data": {
      "text/plain": [
       "<seaborn.axisgrid.FacetGrid at 0x7f1d45bb3850>"
      ]
     },
     "execution_count": 9,
     "metadata": {},
     "output_type": "execute_result"
    },
    {
     "data": {
      "image/png": "[encoded data removed]",
      "text/plain": [
       "<Figure size 608.125x500 with 1 Axes>"
      ]
     },
     "metadata": {},
     "output_type": "display_data"
    },
    {
     "data": {
      "image/png": "[encoded data removed]",
      "text/plain": [
       "<Figure size 608.125x500 with 1 Axes>"
      ]
     },
     "metadata": {},
     "output_type": "display_data"
    },
    {
     "data": {
      "image/png": "[encoded data removed]",
      "text/plain": [
       "<Figure size 608.125x500 with 1 Axes>"
      ]
     },
     "metadata": {},
     "output_type": "display_data"
    },
    {
     "data": {
      "image/png": "[encoded data removed]",
      "text/plain": [
       "<Figure size 608.125x500 with 1 Axes>"
      ]
     },
     "metadata": {},
     "output_type": "display_data"
    }
   ],
   "source": [
    "import seaborn as sns\n",
    "\n",
    "sns.displot(prova_ch)\n",
    "sns.displot(prova_lc)\n",
    "sns.displot(prova_cn)\n",
    "sns.displot(prova_mt)"
   ]
  },
  {
   "cell_type": "code",
   "execution_count": 14,
   "metadata": {},
   "outputs": [
    {
     "name": "stdout",
     "output_type": "stream",
     "text": [
      "Azul       526.648255\n",
      "Amarela    524.823964\n",
      "Branca     527.250349\n",
      "Rosa       524.480499\n",
      "dtype: float64 Azul       492.551845\n",
      "Amarela    494.044864\n",
      "Cinza      493.516694\n",
      "Rosa       494.947834\n",
      "dtype: float64 Azul       509.087841\n",
      "Amarela    506.308343\n",
      "Rosa       507.433576\n",
      "Branca     505.638654\n",
      "dtype: float64 Azul       538.470490\n",
      "Amarela    536.079355\n",
      "Rosa       542.957626\n",
      "Cinza      538.011692\n",
      "dtype: float64\n",
      "Azul       92.947033\n",
      "Amarela    94.194322\n",
      "Branca     93.827867\n",
      "Rosa       94.153610\n",
      "dtype: float64 Azul       81.526412\n",
      "Amarela    80.133975\n",
      "Cinza      80.935861\n",
      "Rosa       80.781308\n",
      "dtype: float64 Azul       77.152112\n",
      "Amarela    77.076272\n",
      "Rosa       76.990209\n",
      "Branca     78.419205\n",
      "dtype: float64 Azul       109.258377\n",
      "Amarela    111.762631\n",
      "Rosa       110.920447\n",
      "Cinza      110.907773\n",
      "dtype: float64\n"
     ]
    }
   ],
   "source": [
    "# Calculate mean\n",
    "mean_ch = prova_ch.mean()\n",
    "mean_cn = prova_cn.mean()\n",
    "mean_lc = prova_lc.mean()\n",
    "mean_mt = prova_mt.mean()\n",
    "\n",
    "print(mean_ch, mean_cn, mean_lc, mean_mt)\n",
    "\n",
    "# Calculate std\n",
    "mean_ch = prova_ch.std()\n",
    "mean_cn = prova_cn.std()\n",
    "mean_lc = prova_lc.std()\n",
    "mean_mt = prova_mt.std()\n",
    "\n",
    "print(mean_ch, mean_cn, mean_lc, mean_mt)"
   ]
  },
  {
   "cell_type": "code",
   "execution_count": 68,
   "metadata": {},
   "outputs": [
    {
     "name": "stdout",
     "output_type": "stream",
     "text": [
      "MT\n",
      "Azul 517658\n",
      "Amarela 523253\n",
      "Rosa 518543\n",
      "Cinza 518395\n",
      "CN\n",
      "Azul 517658\n",
      "Amarela 523253\n",
      "Cinza 518395\n",
      "Rosa 518543\n",
      "CH\n",
      "Azul 517132\n",
      "Amarela 524356\n",
      "Branca 517563\n",
      "Rosa 518465\n",
      "LC\n",
      "Azul 517132\n",
      "Amarela 524356\n",
      "Rosa 518465\n",
      "Branca 517563\n"
     ]
    }
   ],
   "source": [
    "print(\"MT\")\n",
    "for column in prova_mt:\n",
    "    print(column, len(prova_mt[column].dropna()))\n",
    "\n",
    "print(\"CN\")\n",
    "for column in prova_cn:\n",
    "    print(column, len(prova_cn[column].dropna()))\n",
    "\n",
    "print(\"CH\")\n",
    "for column in prova_ch:\n",
    "    print(column, len(prova_ch[column].dropna()))\n",
    "\n",
    "print(\"LC\")\n",
    "for column in prova_lc:\n",
    "    print(column, len(prova_lc[column].dropna()))"
   ]
  },
  {
   "cell_type": "code",
   "execution_count": 73,
   "metadata": {},
   "outputs": [
    {
     "data": {
      "text/html": [
       "<div>\n",
       "<style scoped>\n",
       "    .dataframe tbody tr th:only-of-type {\n",
       "        vertical-align: middle;\n",
       "    }\n",
       "\n",
       "    .dataframe tbody tr th {\n",
       "        vertical-align: top;\n",
       "    }\n",
       "\n",
       "    .dataframe thead th {\n",
       "        text-align: right;\n",
       "    }\n",
       "</style>\n",
       "<table border=\"1\" class=\"dataframe\">\n",
       "  <thead>\n",
       "    <tr style=\"text-align: right;\">\n",
       "      <th></th>\n",
       "      <th>Azul</th>\n",
       "      <th>Amarela</th>\n",
       "      <th>Branca</th>\n",
       "      <th>Rosa</th>\n",
       "    </tr>\n",
       "  </thead>\n",
       "  <tbody>\n",
       "    <tr>\n",
       "      <th>0</th>\n",
       "      <td>476.5</td>\n",
       "      <td>678.9</td>\n",
       "      <td>539.2</td>\n",
       "      <td>551.8</td>\n",
       "    </tr>\n",
       "    <tr>\n",
       "      <th>1</th>\n",
       "      <td>502.7</td>\n",
       "      <td>402.2</td>\n",
       "      <td>617.9</td>\n",
       "      <td>532.4</td>\n",
       "    </tr>\n",
       "    <tr>\n",
       "      <th>2</th>\n",
       "      <td>524.3</td>\n",
       "      <td>419.9</td>\n",
       "      <td>602.0</td>\n",
       "      <td>493.2</td>\n",
       "    </tr>\n",
       "    <tr>\n",
       "      <th>3</th>\n",
       "      <td>578.9</td>\n",
       "      <td>587.0</td>\n",
       "      <td>602.7</td>\n",
       "      <td>437.7</td>\n",
       "    </tr>\n",
       "    <tr>\n",
       "      <th>4</th>\n",
       "      <td>488.5</td>\n",
       "      <td>619.5</td>\n",
       "      <td>541.5</td>\n",
       "      <td>346.9</td>\n",
       "    </tr>\n",
       "    <tr>\n",
       "      <th>...</th>\n",
       "      <td>...</td>\n",
       "      <td>...</td>\n",
       "      <td>...</td>\n",
       "      <td>...</td>\n",
       "    </tr>\n",
       "    <tr>\n",
       "      <th>524351</th>\n",
       "      <td>NaN</td>\n",
       "      <td>510.3</td>\n",
       "      <td>NaN</td>\n",
       "      <td>NaN</td>\n",
       "    </tr>\n",
       "    <tr>\n",
       "      <th>524352</th>\n",
       "      <td>NaN</td>\n",
       "      <td>476.8</td>\n",
       "      <td>NaN</td>\n",
       "      <td>NaN</td>\n",
       "    </tr>\n",
       "    <tr>\n",
       "      <th>524353</th>\n",
       "      <td>NaN</td>\n",
       "      <td>502.3</td>\n",
       "      <td>NaN</td>\n",
       "      <td>NaN</td>\n",
       "    </tr>\n",
       "    <tr>\n",
       "      <th>524354</th>\n",
       "      <td>NaN</td>\n",
       "      <td>380.2</td>\n",
       "      <td>NaN</td>\n",
       "      <td>NaN</td>\n",
       "    </tr>\n",
       "    <tr>\n",
       "      <th>524355</th>\n",
       "      <td>NaN</td>\n",
       "      <td>477.2</td>\n",
       "      <td>NaN</td>\n",
       "      <td>NaN</td>\n",
       "    </tr>\n",
       "  </tbody>\n",
       "</table>\n",
       "<p>524356 rows × 4 columns</p>\n",
       "</div>"
      ],
      "text/plain": [
       "         Azul  Amarela  Branca   Rosa\n",
       "0       476.5    678.9   539.2  551.8\n",
       "1       502.7    402.2   617.9  532.4\n",
       "2       524.3    419.9   602.0  493.2\n",
       "3       578.9    587.0   602.7  437.7\n",
       "4       488.5    619.5   541.5  346.9\n",
       "...       ...      ...     ...    ...\n",
       "524351    NaN    510.3     NaN    NaN\n",
       "524352    NaN    476.8     NaN    NaN\n",
       "524353    NaN    502.3     NaN    NaN\n",
       "524354    NaN    380.2     NaN    NaN\n",
       "524355    NaN    477.2     NaN    NaN\n",
       "\n",
       "[524356 rows x 4 columns]"
      ]
     },
     "execution_count": 73,
     "metadata": {},
     "output_type": "execute_result"
    }
   ],
   "source": [
    "prova_ch"
   ]
  },
  {
   "cell_type": "code",
   "execution_count": 97,
   "metadata": {},
   "outputs": [],
   "source": [
    "prova_ch_azul_p = prova_ch.groupby(\"Azul\").size().reset_index(name='P')\n",
    "prova_ch_amarela_p = prova_ch.groupby(\"Amarela\").size().reset_index(name='P')\n",
    "prova_ch_branca_p = prova_ch.groupby(\"Branca\").size().reset_index(name='P')\n",
    "prova_ch_rosa_p = prova_ch.groupby(\"Rosa\").size().reset_index(name='P')"
   ]
  },
  {
   "cell_type": "code",
   "execution_count": 99,
   "metadata": {},
   "outputs": [
    {
     "name": "stdout",
     "output_type": "stream",
     "text": [
      "4659\n",
      "4679\n",
      "4670\n",
      "4672\n"
     ]
    }
   ],
   "source": [
    "print(len(prova_ch_azul_p))\n",
    "print(len(prova_ch_amarela_p))\n",
    "print(len(prova_ch_branca_p))\n",
    "print(len(prova_ch_rosa_p))"
   ]
  },
  {
   "cell_type": "code",
   "execution_count": 117,
   "metadata": {},
   "outputs": [
    {
     "name": "stdout",
     "output_type": "stream",
     "text": [
      "       Azul  PAzul  Amarela  PAmarela  Branca  PBranca   Rosa  PRosa\n",
      "0       0.0    355      0.0       363     0.0      393    0.0    342\n",
      "1     328.9     37    328.9        51   328.9       46  328.9     52\n",
      "2     329.0      2    329.0         8   329.0        2  329.0      2\n",
      "3     329.2      1    329.2         9   329.2        1  329.2      5\n",
      "4     329.3      1    329.3         7   329.3        1  329.3      4\n",
      "...     ...    ...      ...       ...     ...      ...    ...    ...\n",
      "4581  824.0     11    824.0         9   824.0        8  824.0      8\n",
      "4582  827.0      8    827.0         5   827.0        9  827.0     14\n",
      "4583  832.3      4    832.3         6   832.3        4  832.3      8\n",
      "4584  832.5     18    832.5        14   832.5       11  832.5     18\n",
      "4585  846.9     13    846.9        12   846.9       12  846.9     15\n",
      "\n",
      "[4586 rows x 8 columns]\n"
     ]
    }
   ],
   "source": [
    "merged_df = pd.merge(prova_ch_azul_p, prova_ch_amarela_p, how=\"inner\", left_on=\"Azul\", right_on=\"Amarela\", suffixes=[\"Azul\", \"Amarela\"])\n",
    "merged_df = pd.merge(merged_df, prova_ch_branca_p, how=\"inner\", left_on=\"Azul\", right_on=\"Branca\", suffixes=[\"\", \"Branca\"])\n",
    "merged_df = pd.merge(merged_df, prova_ch_rosa_p, how=\"inner\", left_on=\"Azul\", right_on=\"Rosa\", suffixes=[\"Branca\", \"Rosa\"])\n",
    "print(merged_df)"
   ]
  },
  {
   "cell_type": "code",
   "execution_count": 122,
   "metadata": {},
   "outputs": [],
   "source": [
    "for column in merged_df:\n",
    "    if column.startswith(\"P\"):\n",
    "        merged_df[column] = merged_df[column] / merged_df[column].sum()"
   ]
  },
  {
   "cell_type": "code",
   "execution_count": 125,
   "metadata": {},
   "outputs": [
    {
     "data": {
      "text/html": [
       "<div>\n",
       "<style scoped>\n",
       "    .dataframe tbody tr th:only-of-type {\n",
       "        vertical-align: middle;\n",
       "    }\n",
       "\n",
       "    .dataframe tbody tr th {\n",
       "        vertical-align: top;\n",
       "    }\n",
       "\n",
       "    .dataframe thead th {\n",
       "        text-align: right;\n",
       "    }\n",
       "</style>\n",
       "<table border=\"1\" class=\"dataframe\">\n",
       "  <thead>\n",
       "    <tr style=\"text-align: right;\">\n",
       "      <th></th>\n",
       "      <th>Azul</th>\n",
       "      <th>PAzul</th>\n",
       "      <th>Amarela</th>\n",
       "      <th>PAmarela</th>\n",
       "      <th>Branca</th>\n",
       "      <th>PBranca</th>\n",
       "      <th>Rosa</th>\n",
       "      <th>PRosa</th>\n",
       "    </tr>\n",
       "  </thead>\n",
       "  <tbody>\n",
       "    <tr>\n",
       "      <th>0</th>\n",
       "      <td>0.0</td>\n",
       "      <td>0.000687</td>\n",
       "      <td>0.0</td>\n",
       "      <td>0.000693</td>\n",
       "      <td>0.0</td>\n",
       "      <td>0.000760</td>\n",
       "      <td>0.0</td>\n",
       "      <td>0.000660</td>\n",
       "    </tr>\n",
       "    <tr>\n",
       "      <th>1</th>\n",
       "      <td>328.9</td>\n",
       "      <td>0.000072</td>\n",
       "      <td>328.9</td>\n",
       "      <td>0.000097</td>\n",
       "      <td>328.9</td>\n",
       "      <td>0.000089</td>\n",
       "      <td>328.9</td>\n",
       "      <td>0.000100</td>\n",
       "    </tr>\n",
       "    <tr>\n",
       "      <th>2</th>\n",
       "      <td>329.0</td>\n",
       "      <td>0.000004</td>\n",
       "      <td>329.0</td>\n",
       "      <td>0.000015</td>\n",
       "      <td>329.0</td>\n",
       "      <td>0.000004</td>\n",
       "      <td>329.0</td>\n",
       "      <td>0.000004</td>\n",
       "    </tr>\n",
       "    <tr>\n",
       "      <th>3</th>\n",
       "      <td>329.2</td>\n",
       "      <td>0.000002</td>\n",
       "      <td>329.2</td>\n",
       "      <td>0.000017</td>\n",
       "      <td>329.2</td>\n",
       "      <td>0.000002</td>\n",
       "      <td>329.2</td>\n",
       "      <td>0.000010</td>\n",
       "    </tr>\n",
       "    <tr>\n",
       "      <th>4</th>\n",
       "      <td>329.3</td>\n",
       "      <td>0.000002</td>\n",
       "      <td>329.3</td>\n",
       "      <td>0.000013</td>\n",
       "      <td>329.3</td>\n",
       "      <td>0.000002</td>\n",
       "      <td>329.3</td>\n",
       "      <td>0.000008</td>\n",
       "    </tr>\n",
       "    <tr>\n",
       "      <th>...</th>\n",
       "      <td>...</td>\n",
       "      <td>...</td>\n",
       "      <td>...</td>\n",
       "      <td>...</td>\n",
       "      <td>...</td>\n",
       "      <td>...</td>\n",
       "      <td>...</td>\n",
       "      <td>...</td>\n",
       "    </tr>\n",
       "    <tr>\n",
       "      <th>4581</th>\n",
       "      <td>824.0</td>\n",
       "      <td>0.000021</td>\n",
       "      <td>824.0</td>\n",
       "      <td>0.000017</td>\n",
       "      <td>824.0</td>\n",
       "      <td>0.000015</td>\n",
       "      <td>824.0</td>\n",
       "      <td>0.000015</td>\n",
       "    </tr>\n",
       "    <tr>\n",
       "      <th>4582</th>\n",
       "      <td>827.0</td>\n",
       "      <td>0.000015</td>\n",
       "      <td>827.0</td>\n",
       "      <td>0.000010</td>\n",
       "      <td>827.0</td>\n",
       "      <td>0.000017</td>\n",
       "      <td>827.0</td>\n",
       "      <td>0.000027</td>\n",
       "    </tr>\n",
       "    <tr>\n",
       "      <th>4583</th>\n",
       "      <td>832.3</td>\n",
       "      <td>0.000008</td>\n",
       "      <td>832.3</td>\n",
       "      <td>0.000011</td>\n",
       "      <td>832.3</td>\n",
       "      <td>0.000008</td>\n",
       "      <td>832.3</td>\n",
       "      <td>0.000015</td>\n",
       "    </tr>\n",
       "    <tr>\n",
       "      <th>4584</th>\n",
       "      <td>832.5</td>\n",
       "      <td>0.000035</td>\n",
       "      <td>832.5</td>\n",
       "      <td>0.000027</td>\n",
       "      <td>832.5</td>\n",
       "      <td>0.000021</td>\n",
       "      <td>832.5</td>\n",
       "      <td>0.000035</td>\n",
       "    </tr>\n",
       "    <tr>\n",
       "      <th>4585</th>\n",
       "      <td>846.9</td>\n",
       "      <td>0.000025</td>\n",
       "      <td>846.9</td>\n",
       "      <td>0.000023</td>\n",
       "      <td>846.9</td>\n",
       "      <td>0.000023</td>\n",
       "      <td>846.9</td>\n",
       "      <td>0.000029</td>\n",
       "    </tr>\n",
       "  </tbody>\n",
       "</table>\n",
       "<p>4586 rows × 8 columns</p>\n",
       "</div>"
      ],
      "text/plain": [
       "       Azul     PAzul  Amarela  PAmarela  Branca   PBranca   Rosa     PRosa\n",
       "0       0.0  0.000687      0.0  0.000693     0.0  0.000760    0.0  0.000660\n",
       "1     328.9  0.000072    328.9  0.000097   328.9  0.000089  328.9  0.000100\n",
       "2     329.0  0.000004    329.0  0.000015   329.0  0.000004  329.0  0.000004\n",
       "3     329.2  0.000002    329.2  0.000017   329.2  0.000002  329.2  0.000010\n",
       "4     329.3  0.000002    329.3  0.000013   329.3  0.000002  329.3  0.000008\n",
       "...     ...       ...      ...       ...     ...       ...    ...       ...\n",
       "4581  824.0  0.000021    824.0  0.000017   824.0  0.000015  824.0  0.000015\n",
       "4582  827.0  0.000015    827.0  0.000010   827.0  0.000017  827.0  0.000027\n",
       "4583  832.3  0.000008    832.3  0.000011   832.3  0.000008  832.3  0.000015\n",
       "4584  832.5  0.000035    832.5  0.000027   832.5  0.000021  832.5  0.000035\n",
       "4585  846.9  0.000025    846.9  0.000023   846.9  0.000023  846.9  0.000029\n",
       "\n",
       "[4586 rows x 8 columns]"
      ]
     },
     "execution_count": 125,
     "metadata": {},
     "output_type": "execute_result"
    }
   ],
   "source": [
    "merged_df"
   ]
  },
  {
   "cell_type": "code",
   "execution_count": null,
   "metadata": {},
   "outputs": [],
   "source": []
  }
 ],
 "metadata": {
  "kernelspec": {
   "display_name": ".env",
   "language": "python",
   "name": "python3"
  },
  "language_info": {
   "codemirror_mode": {
    "name": "ipython",
    "version": 3
   },
   "file_extension": ".py",
   "mimetype": "text/x-python",
   "name": "python",
   "nbconvert_exporter": "python",
   "pygments_lexer": "ipython3",
   "version": "3.8.10"
  },
  "orig_nbformat": 4
 },
 "nbformat": 4,
 "nbformat_minor": 2
}
